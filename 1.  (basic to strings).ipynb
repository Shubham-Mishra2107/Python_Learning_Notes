{
 "cells": [
  {
   "cell_type": "markdown",
   "id": "a15c82d9",
   "metadata": {},
   "source": [
    "## Python Programming Language (Notes)"
   ]
  },
  {
   "cell_type": "markdown",
   "id": "2c862914",
   "metadata": {},
   "source": [
    "## Variable and Data type\n",
    "### variables are the name given to a memory location for example: a = 30, b = \"Python\""
   ]
  },
  {
   "cell_type": "markdown",
   "id": "49b856ae",
   "metadata": {},
   "source": [
    "### Python has 4 data types\n",
    "### 1. Integer = 30,40,50\n",
    "### 2. floats = 30.5, 40.5, 50.5\n",
    "### 3. Boolean = True, False\n",
    "### 4. Strings = \"Python Strings are Immutable\"\n",
    "### 5. None =  To denote none value"
   ]
  },
  {
   "cell_type": "markdown",
   "id": "70739711",
   "metadata": {},
   "source": [
    "## Keywords \n",
    "### Keywords are the reserved name in python which can not be used as variable"
   ]
  },
  {
   "cell_type": "code",
   "execution_count": 1,
   "id": "456624a4",
   "metadata": {},
   "outputs": [
    {
     "name": "stdout",
     "output_type": "stream",
     "text": [
      "['False', 'None', 'True', 'and', 'as', 'assert', 'async', 'await', 'break', 'class', 'continue', 'def', 'del', 'elif', 'else', 'except', 'finally', 'for', 'from', 'global', 'if', 'import', 'in', 'is', 'lambda', 'nonlocal', 'not', 'or', 'pass', 'raise', 'return', 'try', 'while', 'with', 'yield']\n"
     ]
    }
   ],
   "source": [
    "# how to import keyword list\n",
    "import keyword\n",
    "print(keyword.kwlist)"
   ]
  },
  {
   "cell_type": "markdown",
   "id": "1b7adf1b",
   "metadata": {},
   "source": [
    "### Variables can not start with numbers it takes only alphabet or underscore as starting value of variable"
   ]
  },
  {
   "cell_type": "markdown",
   "id": "46afcf91",
   "metadata": {},
   "source": [
    "### How to check data type in python"
   ]
  },
  {
   "cell_type": "code",
   "execution_count": 2,
   "id": "e33e856e",
   "metadata": {},
   "outputs": [
    {
     "name": "stdout",
     "output_type": "stream",
     "text": [
      "<class 'int'>\n",
      "<class 'str'>\n"
     ]
    }
   ],
   "source": [
    "a = 300\n",
    "b = \"python\"\n",
    "print(type(a)); print(type(b))"
   ]
  },
  {
   "cell_type": "markdown",
   "id": "f05ca399",
   "metadata": {},
   "source": [
    "## Operators"
   ]
  },
  {
   "cell_type": "markdown",
   "id": "a0391791",
   "metadata": {},
   "source": [
    "### 1. Arthmetic Operators (Simple calculation with variables)"
   ]
  },
  {
   "cell_type": "code",
   "execution_count": 3,
   "id": "8a092a08",
   "metadata": {},
   "outputs": [
    {
     "name": "stdout",
     "output_type": "stream",
     "text": [
      "32\n",
      "<class 'int'>\n"
     ]
    }
   ],
   "source": [
    "a = 30;  a += 2;  print(a);  print(type(a))"
   ]
  },
  {
   "cell_type": "code",
   "execution_count": 4,
   "id": "b51238d7",
   "metadata": {},
   "outputs": [
    {
     "name": "stdout",
     "output_type": "stream",
     "text": [
      "28\n",
      "<class 'int'>\n"
     ]
    }
   ],
   "source": [
    "a = 30;  a -= 2;  print(a);  print(type(a))"
   ]
  },
  {
   "cell_type": "code",
   "execution_count": 5,
   "id": "0e585b03",
   "metadata": {},
   "outputs": [
    {
     "name": "stdout",
     "output_type": "stream",
     "text": [
      "60\n",
      "<class 'int'>\n"
     ]
    }
   ],
   "source": [
    "a = 30;  a *= 2;  print(a);  print(type(a))"
   ]
  },
  {
   "cell_type": "code",
   "execution_count": 6,
   "id": "8577ca1d",
   "metadata": {},
   "outputs": [
    {
     "name": "stdout",
     "output_type": "stream",
     "text": [
      "15.0\n",
      "<class 'float'>\n"
     ]
    }
   ],
   "source": [
    "a = 30;  a /= 2;  print(a);  print(type(a))"
   ]
  },
  {
   "cell_type": "code",
   "execution_count": 7,
   "id": "fd9b1877",
   "metadata": {},
   "outputs": [
    {
     "name": "stdout",
     "output_type": "stream",
     "text": [
      "30\n",
      "<class 'int'>\n"
     ]
    }
   ],
   "source": [
    "a=30\n",
    "print(a);print(type(a))"
   ]
  },
  {
   "cell_type": "markdown",
   "id": "a03a8fea",
   "metadata": {},
   "source": [
    "### Modulus operator"
   ]
  },
  {
   "cell_type": "code",
   "execution_count": 8,
   "id": "ef271b52",
   "metadata": {},
   "outputs": [
    {
     "name": "stdout",
     "output_type": "stream",
     "text": [
      "1.0\n"
     ]
    }
   ],
   "source": [
    "a = 4; b = 3; c = float(a % b); print(c); # this operator writtens remainder values of divide"
   ]
  },
  {
   "cell_type": "code",
   "execution_count": 9,
   "id": "406c02e2",
   "metadata": {},
   "outputs": [
    {
     "name": "stdout",
     "output_type": "stream",
     "text": [
      "1.3333333333333333\n"
     ]
    }
   ],
   "source": [
    "a = 4; b = 3; c = float(a / b); print(c);"
   ]
  },
  {
   "cell_type": "code",
   "execution_count": 10,
   "id": "3bf68173",
   "metadata": {},
   "outputs": [
    {
     "name": "stdout",
     "output_type": "stream",
     "text": [
      "1.33\n"
     ]
    }
   ],
   "source": [
    "a = 4; b = 3; c = float(a / b); print(round(c,2));"
   ]
  },
  {
   "cell_type": "markdown",
   "id": "1fb2f4e9",
   "metadata": {},
   "source": [
    "### Float division (//), writtens round down values"
   ]
  },
  {
   "cell_type": "code",
   "execution_count": 11,
   "id": "222ed26b",
   "metadata": {},
   "outputs": [
    {
     "data": {
      "text/plain": [
       "0"
      ]
     },
     "execution_count": 11,
     "metadata": {},
     "output_type": "execute_result"
    }
   ],
   "source": [
    "4//5"
   ]
  },
  {
   "cell_type": "code",
   "execution_count": 12,
   "id": "cf86c2f1",
   "metadata": {},
   "outputs": [
    {
     "name": "stdout",
     "output_type": "stream",
     "text": [
      "1\n"
     ]
    }
   ],
   "source": [
    "a=4/5\n",
    "print(round(a))"
   ]
  },
  {
   "cell_type": "markdown",
   "id": "9217ccc9",
   "metadata": {},
   "source": [
    "### Exponential operators (**), writtens mulitplied values of variable into number followed by ( * * )"
   ]
  },
  {
   "cell_type": "code",
   "execution_count": 13,
   "id": "4d60fd2a",
   "metadata": {},
   "outputs": [
    {
     "name": "stdout",
     "output_type": "stream",
     "text": [
      "4\n",
      "27\n",
      "108\n"
     ]
    }
   ],
   "source": [
    "a = 2; print(a**2); b = 3; print(3**3); c = print(a**2*b**3)"
   ]
  },
  {
   "cell_type": "markdown",
   "id": "c5ff6d48",
   "metadata": {},
   "source": [
    "## 2. Comparison Operators (Compares two of more entities)"
   ]
  },
  {
   "cell_type": "code",
   "execution_count": 14,
   "id": "3241d464",
   "metadata": {},
   "outputs": [
    {
     "name": "stdout",
     "output_type": "stream",
     "text": [
      "Condition not match\n",
      "True\n",
      "True\n",
      "Condition not match\n"
     ]
    }
   ],
   "source": [
    "b = (4>7);print(b) if b==True else print(\"Condition not match\");\n",
    "b = (14>7); print(b)if b==True else print(\"Condition not match\");\n",
    "b = (14==14); print(b) if b==True else print(\"Condition not match\");\n",
    "b = (14<14); print(b) if b == True else print(\"Condition not match\")"
   ]
  },
  {
   "cell_type": "markdown",
   "id": "44b48a3a",
   "metadata": {},
   "source": [
    "### Equals to and not Equals to (Equals ==, Not Equals !=)"
   ]
  },
  {
   "cell_type": "code",
   "execution_count": 15,
   "id": "250fd4ab",
   "metadata": {},
   "outputs": [
    {
     "name": "stdout",
     "output_type": "stream",
     "text": [
      "True\n",
      "False\n"
     ]
    }
   ],
   "source": [
    "a = 10; b = 10; print(a == b); print(a != b)"
   ]
  },
  {
   "cell_type": "markdown",
   "id": "43370373",
   "metadata": {},
   "source": [
    "## 3. Logical Operators (and, or, not) These operators work on boolean values"
   ]
  },
  {
   "cell_type": "code",
   "execution_count": 16,
   "id": "23d69fdc",
   "metadata": {},
   "outputs": [
    {
     "name": "stdout",
     "output_type": "stream",
     "text": [
      "False\n"
     ]
    }
   ],
   "source": [
    "a = True; b = False\n",
    "print(a & b) #if either of both is false & function (and function) will return False"
   ]
  },
  {
   "cell_type": "code",
   "execution_count": 17,
   "id": "c2e07720",
   "metadata": {},
   "outputs": [
    {
     "name": "stdout",
     "output_type": "stream",
     "text": [
      "True\n"
     ]
    }
   ],
   "source": [
    "a = True; b = False\n",
    "print(a | b) # this (or function) function will return true valuse if any of both is True"
   ]
  },
  {
   "cell_type": "markdown",
   "id": "fce31d7c",
   "metadata": {},
   "source": [
    "## Typecasting (Typecasting is a way to convert a data type)"
   ]
  },
  {
   "cell_type": "code",
   "execution_count": 18,
   "id": "dfca3d49",
   "metadata": {},
   "outputs": [
    {
     "name": "stdout",
     "output_type": "stream",
     "text": [
      "<class 'str'>\n",
      "-------------------\n",
      "40\n",
      "<class 'int'>\n"
     ]
    }
   ],
   "source": [
    "a = \"35\";print(type(a)); #print(a + 5) This function will reflect the TypeError\n",
    "print(\"-------------------\")\n",
    "a = int(a); print(a + 5);print(type(a)) # Here we have converted the str into int"
   ]
  },
  {
   "cell_type": "markdown",
   "id": "9efe859f",
   "metadata": {},
   "source": [
    "## Input function (Input function allows user to take input from the keyboard as string)"
   ]
  },
  {
   "cell_type": "code",
   "execution_count": 19,
   "id": "2f521ee7",
   "metadata": {},
   "outputs": [],
   "source": [
    "# a = input(\"Enter a number\"); print(a); print(type(a)) #this will written numbers in str. To convert it into int____\n",
    "# a = int(input(\"Enter a number\")); print(a); print(type(a)) # this will allow user to insert integers only..."
   ]
  },
  {
   "cell_type": "markdown",
   "id": "d3d2166d",
   "metadata": {},
   "source": [
    "## Single Quoted Strings/Double Quoted Strings & Tripple Quoted Strings and their uses"
   ]
  },
  {
   "cell_type": "markdown",
   "id": "bb64441b",
   "metadata": {},
   "source": [
    "## 1. Single Quoted String (if there is no other quote inside the string)"
   ]
  },
  {
   "cell_type": "code",
   "execution_count": 20,
   "id": "67f769d5",
   "metadata": {},
   "outputs": [
    {
     "name": "stdout",
     "output_type": "stream",
     "text": [
      "python\n"
     ]
    }
   ],
   "source": [
    "a = 'python'; print(a);"
   ]
  },
  {
   "cell_type": "markdown",
   "id": "fefc706b",
   "metadata": {},
   "source": [
    "## 2. Double Quoted String (when there is single quotes inside the string)"
   ]
  },
  {
   "cell_type": "code",
   "execution_count": 21,
   "id": "de0738c2",
   "metadata": {},
   "outputs": [
    {
     "name": "stdout",
     "output_type": "stream",
     "text": [
      "Python's\n"
     ]
    }
   ],
   "source": [
    "name = \"Python's\"; print(name)"
   ]
  },
  {
   "cell_type": "markdown",
   "id": "45e89222",
   "metadata": {},
   "source": [
    "## 3. Tripple Quoted String (When string goes in multiple lines)"
   ]
  },
  {
   "cell_type": "code",
   "execution_count": 22,
   "id": "a3fd029b",
   "metadata": {},
   "outputs": [
    {
     "name": "stdout",
     "output_type": "stream",
     "text": [
      "Twinkle Twinkle little\n",
      "star how I wonder what you are\n"
     ]
    }
   ],
   "source": [
    "poem = '''Twinkle Twinkle little\n",
    "star how I wonder what you are'''; print(poem)"
   ]
  },
  {
   "cell_type": "markdown",
   "id": "0f0ae6b9",
   "metadata": {},
   "source": [
    "## Length of string and extract indexing value from the string"
   ]
  },
  {
   "cell_type": "code",
   "execution_count": 23,
   "id": "c61e1da6",
   "metadata": {},
   "outputs": [
    {
     "name": "stdout",
     "output_type": "stream",
     "text": [
      "The length of variable is: 6 and the selected index value is:t\n"
     ]
    }
   ],
   "source": [
    "name = \"Python\"; print(f\"The length of variable is: {len(name)} and the selected index value is:{a[2]}\")"
   ]
  },
  {
   "cell_type": "markdown",
   "id": "6c08cddb",
   "metadata": {},
   "source": [
    "## Concatenation of strings"
   ]
  },
  {
   "cell_type": "code",
   "execution_count": 24,
   "id": "1632251a",
   "metadata": {},
   "outputs": [
    {
     "name": "stdout",
     "output_type": "stream",
     "text": [
      "Hello Python\n",
      "Hello Python\n",
      "H P\n",
      "H P\n"
     ]
    },
    {
     "data": {
      "text/plain": [
       "'Hello Python'"
      ]
     },
     "execution_count": 24,
     "metadata": {},
     "output_type": "execute_result"
    }
   ],
   "source": [
    "a = \"Hello\";\n",
    "b = \"Python\";\n",
    "print(a+\" \"+b);\n",
    "print(a,b);\n",
    "print(a[0],b[0]);\n",
    "print(a[0] + \" \" + b[0])\n",
    "str((a)+\" \"+(b))"
   ]
  },
  {
   "cell_type": "markdown",
   "id": "443a3d10",
   "metadata": {},
   "source": [
    "## String Slicing (start value inclusive, end value exclusive)"
   ]
  },
  {
   "cell_type": "code",
   "execution_count": 25,
   "id": "fc07c8f5",
   "metadata": {},
   "outputs": [
    {
     "name": "stdout",
     "output_type": "stream",
     "text": [
      "Python\n",
      "Pto rgamn agae\n",
      "e\n",
      "Pytho\n"
     ]
    }
   ],
   "source": [
    "name = \"Python Programming Language\"\n",
    "print(name[0:6]) # this will start from 0 and run till 5th index of string with step (gap) 1\n",
    "print(name[0::2])# this will start from 0 and run till end of string with step of 2\n",
    "print(name[-1]) # this will run last index of the string\n",
    "print(name[:5:])# this will start from 0 and run till 4 value with step 1\n",
    "# Note: in indexing, the first value is starting point,second value is end point and end point value is excluded,\n",
    "#the third value is steps or gaps between starting and end points."
   ]
  },
  {
   "cell_type": "markdown",
   "id": "f8703eed",
   "metadata": {},
   "source": [
    "## Some string functions\n",
    "### 1. String.endswith() \n",
    "### This function will check whether the string is ending with the given text inside peranthese or not"
   ]
  },
  {
   "cell_type": "code",
   "execution_count": 26,
   "id": "6d718158",
   "metadata": {},
   "outputs": [
    {
     "name": "stdout",
     "output_type": "stream",
     "text": [
      "Yes this string is ending with on\n"
     ]
    }
   ],
   "source": [
    "name = \"Python\"; \n",
    "if name.endswith(\"on\") == True:\n",
    "    print(\"Yes this string is ending with on\")\n",
    "else:\n",
    "    print(\"Condition not match\")"
   ]
  },
  {
   "cell_type": "code",
   "execution_count": 27,
   "id": "44fa396c",
   "metadata": {},
   "outputs": [
    {
     "name": "stdout",
     "output_type": "stream",
     "text": [
      "PYTHON\n",
      "------------\n",
      "Yes the string ends with 'on'\n"
     ]
    }
   ],
   "source": [
    "name = \"Python\".upper();print(name)\n",
    "print(\"------------\")\n",
    "print(\"Yes the string ends with 'on'\")if name.upper().endswith('ON')==True else print(\"Condition not match\")"
   ]
  },
  {
   "cell_type": "code",
   "execution_count": 28,
   "id": "9f6a77fa",
   "metadata": {},
   "outputs": [
    {
     "name": "stdout",
     "output_type": "stream",
     "text": [
      "PYTHON\n",
      "---------\n",
      "Yes the string starts with 'P'\n"
     ]
    }
   ],
   "source": [
    "name = \"Python\".upper();print(name)\n",
    "print(\"---------\")\n",
    "print(\"Yes the string starts with 'P'\") if name.upper().startswith('P')==True else print(\"Condition not match\")"
   ]
  },
  {
   "cell_type": "markdown",
   "id": "72f832d1",
   "metadata": {},
   "source": [
    "### 2. string.count()\n",
    "### This function will return the number of specific character inside the string"
   ]
  },
  {
   "cell_type": "code",
   "execution_count": 29,
   "id": "9e8217fb",
   "metadata": {},
   "outputs": [
    {
     "name": "stdout",
     "output_type": "stream",
     "text": [
      "2\n"
     ]
    }
   ],
   "source": [
    "name = \"My Python\"\n",
    "print(name.count(\"y\"))"
   ]
  },
  {
   "cell_type": "markdown",
   "id": "ad8cf35d",
   "metadata": {},
   "source": [
    "## 3. capitalize()\n",
    "### This function changes the sentese case into the standard."
   ]
  },
  {
   "cell_type": "code",
   "execution_count": 30,
   "id": "d5746b7d",
   "metadata": {},
   "outputs": [
    {
     "name": "stdout",
     "output_type": "stream",
     "text": [
      "I Am Python\n"
     ]
    }
   ],
   "source": [
    "name = \"i\"; name1 = \"AM\"; name2 = \"pYTHON\"\n",
    "print(name.capitalize(),name1.capitalize(),name2.capitalize())"
   ]
  },
  {
   "cell_type": "markdown",
   "id": "4b1e4075",
   "metadata": {},
   "source": [
    "## 4. lower()\n",
    "### This function changes the sentense case into lower."
   ]
  },
  {
   "cell_type": "code",
   "execution_count": 31,
   "id": "8c5a1f37",
   "metadata": {},
   "outputs": [
    {
     "name": "stdout",
     "output_type": "stream",
     "text": [
      "i am python\n"
     ]
    }
   ],
   "source": [
    "name = \"I AM PYTHON\"\n",
    "print(name.lower())"
   ]
  },
  {
   "cell_type": "markdown",
   "id": "25149d9b",
   "metadata": {},
   "source": [
    "## 5. Upper()\n",
    "### This function changes the sentense case into upper."
   ]
  },
  {
   "cell_type": "code",
   "execution_count": 32,
   "id": "c96a0cf6",
   "metadata": {},
   "outputs": [
    {
     "name": "stdout",
     "output_type": "stream",
     "text": [
      "I AM PYTHON\n"
     ]
    }
   ],
   "source": [
    "name = \"i am python\"\n",
    "print(name.upper())"
   ]
  },
  {
   "cell_type": "markdown",
   "id": "4fca7c35",
   "metadata": {},
   "source": [
    "## 6. Find()\n",
    "### This function will find the particular character and will return the index number of the character inside the string"
   ]
  },
  {
   "cell_type": "code",
   "execution_count": 33,
   "id": "d267964a",
   "metadata": {},
   "outputs": [
    {
     "name": "stdout",
     "output_type": "stream",
     "text": [
      "12\n"
     ]
    }
   ],
   "source": [
    "name = \"Python is a programming lannguage\"\n",
    "print(name.find(\"programming\"))"
   ]
  },
  {
   "cell_type": "markdown",
   "id": "ceff452f",
   "metadata": {},
   "source": [
    "## 7. Replace()\n",
    "### This function will replace all the previous value with new given value"
   ]
  },
  {
   "cell_type": "code",
   "execution_count": 34,
   "id": "b27d9b30",
   "metadata": {},
   "outputs": [
    {
     "name": "stdout",
     "output_type": "stream",
     "text": [
      "HTML is a programming language\n",
      "--------------------------------\n",
      "Python is a programming language\n"
     ]
    }
   ],
   "source": [
    "language = \"HTML is a programming language\"\n",
    "print(language)\n",
    "print(\"--------------------------------\")\n",
    "print(language.replace(\"HTML\",\"Python\"))"
   ]
  },
  {
   "cell_type": "markdown",
   "id": "eeb84514",
   "metadata": {},
   "source": [
    "## 8. Escape Sequence Character\n",
    "### This will enable the user to add enter and tabs between the string"
   ]
  },
  {
   "cell_type": "code",
   "execution_count": 35,
   "id": "098a05f9",
   "metadata": {},
   "outputs": [
    {
     "name": "stdout",
     "output_type": "stream",
     "text": [
      "HTML\n",
      "CSS\n",
      "Python\n",
      "HTML\\CSS\\Python\n"
     ]
    }
   ],
   "source": [
    "languages = \"HTML\\nCSS\\nPython\"\n",
    "lang1 = \"HTML\\\\CSS\\\\Python\"\n",
    "print(languages)\n",
    "print(lang1)"
   ]
  }
 ],
 "metadata": {
  "kernelspec": {
   "display_name": "Python 3 (ipykernel)",
   "language": "python",
   "name": "python3"
  },
  "language_info": {
   "codemirror_mode": {
    "name": "ipython",
    "version": 3
   },
   "file_extension": ".py",
   "mimetype": "text/x-python",
   "name": "python",
   "nbconvert_exporter": "python",
   "pygments_lexer": "ipython3",
   "version": "3.11.3"
  }
 },
 "nbformat": 4,
 "nbformat_minor": 5
}
